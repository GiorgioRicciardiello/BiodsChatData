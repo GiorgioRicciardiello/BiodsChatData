{
 "cells": [
  {
   "cell_type": "code",
   "execution_count": 1,
   "id": "initial_id",
   "metadata": {
    "collapsed": true,
    "ExecuteTime": {
     "end_time": "2024-05-28T21:23:34.847603500Z",
     "start_time": "2024-05-28T21:23:33.996894900Z"
    }
   },
   "outputs": [],
   "source": [
    "import pandas as pd\n",
    "import numpy as np\n",
    "import pathlib"
   ]
  },
  {
   "cell_type": "code",
   "execution_count": 4,
   "outputs": [
    {
     "name": "stdout",
     "output_type": "stream",
     "text": [
      "   Age     Sex  Diabetes diagnosed by a doctor  Blood pressure medication  \\\n",
      "0   78  Female                               0                          0   \n",
      "1   68  Female                               0                          0   \n",
      "2   54    Male                               0                          0   \n",
      "3   47  Female                               0                          1   \n",
      "4   60    Male                               1                          0   \n",
      "\n",
      "  Smoking status  Total cholesterol  HDL cholesterol  LDL cholesterol  \\\n",
      "0          Never         236.446135        53.876010       112.781351   \n",
      "1          Never         177.072596        56.079951       103.387032   \n",
      "2          Never         210.375481        30.700744       125.180826   \n",
      "3         Former         210.120334        48.690967       144.352386   \n",
      "4          Never         176.637349        45.456382        53.037083   \n",
      "\n",
      "   Triglycerides  Systolic blood pressure  ...  Standing height     Weight  \\\n",
      "0     168.200203                70.086787  ...       173.671935  84.445168   \n",
      "1     178.261819               111.310841  ...       184.352283  62.833575   \n",
      "2      97.665098               106.125417  ...       151.425180  65.249414   \n",
      "3     189.025430               128.066078  ...       158.617905  71.020093   \n",
      "4      60.332791               114.248173  ...       155.517737  44.308648   \n",
      "\n",
      "   Date of attending assessment center Date of death  \\\n",
      "0                           2000-11-16    1970-01-01   \n",
      "1                           2001-04-08    1970-01-01   \n",
      "2                           2001-06-20    1970-01-01   \n",
      "3                           2001-07-06    1970-01-01   \n",
      "4                           2020-08-08    1970-01-01   \n",
      "\n",
      "  Myocardial infarction (ICD9)  Myocardial infarction (ICD10)  \\\n",
      "0                            0                              0   \n",
      "1                            0                              0   \n",
      "2                            0                              0   \n",
      "3                            0                              0   \n",
      "4                            0                              0   \n",
      "\n",
      "   Ischemic stroke (ICD9)  Ischemic stroke (ICD10)  \\\n",
      "0                       0                        0   \n",
      "1                       0                        0   \n",
      "2                       0                        0   \n",
      "3                       0                        0   \n",
      "4                       0                        0   \n",
      "\n",
      "   Self Reported Myocardial Infarction  Self Reported Ischemic Stroke  \n",
      "0                                    0                              0  \n",
      "1                                    0                              0  \n",
      "2                                    0                              0  \n",
      "3                                    0                              0  \n",
      "4                                    1                              0  \n",
      "\n",
      "[5 rows x 21 columns]\n"
     ]
    }
   ],
   "source": [
    "# Setting seed for reproducibility\n",
    "np.random.seed(42)\n",
    "\n",
    "# Number of observations\n",
    "n = 250000\n",
    "\n",
    "# Generating the data\n",
    "\n",
    "# Generating the data\n",
    "data = {\n",
    "    'Age': np.random.randint(25, 80, size=n),  # Age between 40 and 80\n",
    "    'Sex': np.random.choice(['Male', 'Female'], size=n, p=[0.48, 0.52]),  # Sex with slight bias\n",
    "    'Diabetes diagnosed by a doctor': np.random.binomial(1, 0.1, size=n),  # 10% prevalence\n",
    "    'Blood pressure medication': np.random.binomial(1, 0.2, size=n),  # 20% prevalence\n",
    "    'Smoking status': np.random.choice(['Never', 'Former', 'Current'], size=n, p=[0.6, 0.3, 0.1]),  # Smoking status distribution\n",
    "    'Total cholesterol': np.random.normal(200, 30, size=n),  # Normal distribution with mean 200 and std 30\n",
    "    'HDL cholesterol': np.random.normal(50, 10, size=n),  # Normal distribution with mean 50 and std 10\n",
    "    'LDL cholesterol': np.random.normal(100, 20, size=n),  # Normal distribution with mean 100 and std 20\n",
    "    'Triglycerides': np.random.normal(150, 50, size=n),  # Normal distribution with mean 150 and std 50\n",
    "    'Systolic blood pressure': np.random.normal(120, 15, size=n),  # Normal distribution with mean 120 and std 15\n",
    "    'Diastolic blood pressure': np.random.normal(80, 10, size=n),  # Normal distribution with mean 80 and std 10\n",
    "    'Standing height': np.random.normal(170, 10, size=n),  # Normal distribution with mean 170 and std 10\n",
    "    'Weight': np.random.normal(70, 15, size=n),  # Normal distribution with mean 70 and std 15\n",
    "    'Date of attending assessment center': pd.to_datetime(np.random.randint(\n",
    "        np.datetime64('2000-01-01').astype('int'),\n",
    "        np.datetime64('2020-12-31').astype('int'),\n",
    "        size=n), unit='D'),  # Random dates between 2000 and 2020\n",
    "    'Date of death': pd.to_datetime(\n",
    "        np.random.choice(\n",
    "            np.append(\n",
    "                np.random.randint(\n",
    "                    np.datetime64('2000-01-01').astype('int'),\n",
    "                    np.datetime64('2020-12-31').astype('int'),\n",
    "                    size=int(n * 0.05)  # Assuming 5% mortality rate\n",
    "                ),\n",
    "                [np.datetime64('NaT').astype('int')] * int(n * 0.95)  # 95% NaT for alive individuals\n",
    "            ),\n",
    "            size=n\n",
    "        ),\n",
    "        unit='D'\n",
    "    ),\n",
    "    'Myocardial infarction (ICD9)': np.random.binomial(1, 0.02, size=n),  # 2% prevalence\n",
    "    'Myocardial infarction (ICD10)': np.random.binomial(1, 0.02, size=n),  # 2% prevalence\n",
    "    'Ischemic stroke (ICD9)': np.random.binomial(1, 0.015, size=n),  # 1.5% prevalence\n",
    "    'Ischemic stroke (ICD10)': np.random.binomial(1, 0.015, size=n),  # 1.5% prevalence\n",
    "    'Self Reported Myocardial Infarction': np.random.binomial(1, 0.03, size=n),  # 3% prevalence\n",
    "    'Self Reported Ischemic Stroke': np.random.binomial(1, 0.02, size=n)  # 2% prevalence\n",
    "}\n",
    "\n",
    "# Create DataFrame\n",
    "df = pd.DataFrame(data)\n",
    "\n",
    "# Displaying first few rows of the DataFrame\n",
    "print(df.head())\n"
   ],
   "metadata": {
    "collapsed": false,
    "ExecuteTime": {
     "end_time": "2024-05-28T21:25:35.949933500Z",
     "start_time": "2024-05-28T21:25:35.752222400Z"
    }
   },
   "id": "5db060a3ed1a73d8"
  },
  {
   "cell_type": "code",
   "execution_count": 6,
   "outputs": [],
   "source": [
    "df.to_csv(r'C:\\Users\\giorg\\projects_local\\GenAiSleep\\Q&A-and-RAG-with-SQL-and-TabularData\\data\\csv_xlsx\\ukkb.csv', index=False)"
   ],
   "metadata": {
    "collapsed": false,
    "ExecuteTime": {
     "end_time": "2024-05-28T21:25:49.163993300Z",
     "start_time": "2024-05-28T21:25:46.444045Z"
    }
   },
   "id": "b33ce19408ecc4a9"
  }
 ],
 "metadata": {
  "kernelspec": {
   "display_name": "Python 3",
   "language": "python",
   "name": "python3"
  },
  "language_info": {
   "codemirror_mode": {
    "name": "ipython",
    "version": 2
   },
   "file_extension": ".py",
   "mimetype": "text/x-python",
   "name": "python",
   "nbconvert_exporter": "python",
   "pygments_lexer": "ipython2",
   "version": "2.7.6"
  }
 },
 "nbformat": 4,
 "nbformat_minor": 5
}
